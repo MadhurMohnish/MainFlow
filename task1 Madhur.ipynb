{
 "cells": [
  {
   "cell_type": "code",
   "execution_count": 1,
   "metadata": {},
   "outputs": [
    {
     "name": "stdout",
     "output_type": "stream",
     "text": [
      "['Rajdeep', 'Hardick', 'Develliers', 'bhuvi']\n",
      "['Rajdeep', 'Hardick', 'Develliers', 'bhuvi', 'shami']\n",
      "['Rajdeep', 'dhoni', 'Hardick', 'Develliers', 'bhuvi', 'shami']\n",
      "['Rajdeep', 'Hardick', 'Develliers', 'bhuvi', 'shami']\n",
      "['Rajdeep', 'Develliers', 'bhuvi', 'shami']\n",
      "['Rajdeep', 'rohit', 'bhuvi', 'shami']\n"
     ]
    }
   ],
   "source": [
    "#Creating List in python\n",
    "\n",
    "#Defining list\n",
    "mylist = [\"Rajdeep\",\"Hardick\",\"Develliers\",\"bhuvi\"]  \n",
    "print(mylist)                                       \n",
    "\n",
    "\n",
    "#add item\n",
    "mylist.append(\"Dhoni\")\n",
    "print(mylist)        \n",
    "\n",
    "#adding specified index\n",
    "mylist.insert(1, \"Shami\")\n",
    "print(mylist)\n",
    "\n",
    "\n",
    "#deleting item\n",
    "mylist.remove(\"Shami\")\n",
    "print(mylist)\n",
    "\n",
    "#delete specified index\n",
    "mylist.pop(1)\n",
    "print(mylist)\n",
    "\n",
    "\n",
    "#modify list items\n",
    "mylist[1] = \"Mohit\"\n",
    "print(mylist)"
   ]
  },
  {
   "cell_type": "code",
   "execution_count": 2,
   "metadata": {},
   "outputs": [
    {
     "name": "stdout",
     "output_type": "stream",
     "text": [
      "{'name': 'shri', 'profession': 'cricketer', 'age': '21', 'height': '180'}\n",
      "<class 'dict'>\n",
      "{'name': 'shri', 'profession': 'cricketer', 'height': '190', 'age': '22'}\n"
     ]
    }
   ],
   "source": [
    "#creating Dictionaries in python\n",
    "\n",
    "mydict = {\n",
    "  \"name\": \"Madhur\",\n",
    "  \"profession\": \"cricketer\",\n",
    "  \"age\": \"21\"\n",
    "}\n",
    "#adding items\n",
    "mydict[\"height\"] = \"180\"\n",
    "print(mydict)\n",
    "\n",
    "#modify items\n",
    "mydict[\"height\"] = \"190\"\n",
    "\n",
    "#delete item\n",
    "mydict.pop(\"age\")\n",
    "\n",
    "#update\n",
    "mydict.update({\"age\": \"22\"})\n",
    "\n",
    "print(type(mydict))\n",
    "print(mydict)\n"
   ]
  },
  {
   "cell_type": "code",
   "execution_count": 3,
   "metadata": {},
   "outputs": [
    {
     "name": "stdout",
     "output_type": "stream",
     "text": [
      "{'shri', 'bhavesh', 'shubham'}\n",
      "{'shri', 'bhavesh', 'aditya', 'shubham'}\n",
      "{'shri', 'bhavesh', 'aditya'}\n",
      "<class 'set'>\n"
     ]
    }
   ],
   "source": [
    "#Sets in python\n",
    "myset = {\"Madhur\", \"Bhavesh\", \"Shubham\"}\n",
    "print(myset)\n",
    "\n",
    "#add item in set\n",
    "myset.add(\"Aditya\")\n",
    "print(myset)\n",
    "\n",
    "#delete item in set\n",
    "myset.remove(\"Shubham\")\n",
    "print(myset)\n",
    "\n",
    "print(type(myset))"
   ]
  }
 ],
 "metadata": {
  "kernelspec": {
   "display_name": "Python 3 (ipykernel)",
   "language": "python",
   "name": "python3"
  },
  "language_info": {
   "codemirror_mode": {
    "name": "ipython",
    "version": 3
   },
   "file_extension": ".py",
   "mimetype": "text/x-python",
   "name": "python",
   "nbconvert_exporter": "python",
   "pygments_lexer": "ipython3",
   "version": "3.12.4"
  }
 },
 "nbformat": 4,
 "nbformat_minor": 4
}
